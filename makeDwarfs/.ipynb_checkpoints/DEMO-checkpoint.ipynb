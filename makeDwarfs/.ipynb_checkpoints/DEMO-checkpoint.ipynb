{
 "cells": [
  {
   "cell_type": "markdown",
   "metadata": {},
   "source": [
    "# Instructions\n",
    "\n",
    "Implementation of this code is deliberately simple.  As long as you have the lsst.MAG and lsst.MASS tables (available on this page) in the code directory, just create an array representing log(M/Msun), create an instance of a Dwarfs() class object using that array as input, then create a tuple of coordinate arrays in the form (RA, DEC).  The `__init__` is constructed such that Sersic parameters and other features are attached as attributes of the Dwarfs() class object on creation of an instance.\n",
    "\n",
    "Some helper functions are available to create mass and coordinate arrays.  These will be expanded upon as the code develops."
   ]
  },
  {
   "cell_type": "code",
   "execution_count": 1,
   "metadata": {},
   "outputs": [
    {
     "ename": "NameError",
     "evalue": "name 'dwarfs' is not defined",
     "output_type": "error",
     "traceback": [
      "\u001b[0;31m---------------------------------------------------------------------------\u001b[0m",
      "\u001b[0;31mNameError\u001b[0m                                 Traceback (most recent call last)",
      "\u001b[0;32m<ipython-input-1-e306634c3d88>\u001b[0m in \u001b[0;36m<module>\u001b[0;34m\u001b[0m\n\u001b[1;32m     10\u001b[0m \u001b[0;31m# Picking a random index and looking at the values of some attributes\u001b[0m\u001b[0;34m\u001b[0m\u001b[0;34m\u001b[0m\u001b[0;34m\u001b[0m\u001b[0m\n\u001b[1;32m     11\u001b[0m \u001b[0mi\u001b[0m \u001b[0;34m=\u001b[0m \u001b[0mnp\u001b[0m\u001b[0;34m.\u001b[0m\u001b[0mrandom\u001b[0m\u001b[0;34m.\u001b[0m\u001b[0mrandint\u001b[0m\u001b[0;34m(\u001b[0m\u001b[0;36m0\u001b[0m\u001b[0;34m,\u001b[0m \u001b[0mlen\u001b[0m\u001b[0;34m(\u001b[0m\u001b[0mlogm\u001b[0m\u001b[0;34m)\u001b[0m\u001b[0;34m)\u001b[0m\u001b[0;34m\u001b[0m\u001b[0;34m\u001b[0m\u001b[0m\n\u001b[0;32m---> 12\u001b[0;31m \u001b[0mprint\u001b[0m\u001b[0;34m(\u001b[0m\u001b[0;34m'log(M)={:.1f}, Reff (pc)={:.3f}, n={:.3f}'\u001b[0m\u001b[0;34m.\u001b[0m\u001b[0mformat\u001b[0m\u001b[0;34m(\u001b[0m\u001b[0mdwarfs\u001b[0m\u001b[0;34m.\u001b[0m\u001b[0mmstar\u001b[0m\u001b[0;34m[\u001b[0m\u001b[0mi\u001b[0m\u001b[0;34m]\u001b[0m\u001b[0;34m,\u001b[0m \u001b[0mdwarfs\u001b[0m\u001b[0;34m.\u001b[0m\u001b[0mre\u001b[0m\u001b[0;34m[\u001b[0m\u001b[0mi\u001b[0m\u001b[0;34m]\u001b[0m\u001b[0;34m,\u001b[0m \u001b[0mdwarfs\u001b[0m\u001b[0;34m.\u001b[0m\u001b[0mn\u001b[0m\u001b[0;34m[\u001b[0m\u001b[0mi\u001b[0m\u001b[0;34m]\u001b[0m\u001b[0;34m)\u001b[0m\u001b[0;34m)\u001b[0m\u001b[0;34m\u001b[0m\u001b[0;34m\u001b[0m\u001b[0m\n\u001b[0m\u001b[1;32m     13\u001b[0m print('M_g={:.3f}, M_r={:.3f}, M_i={:.3f}'.format(dwarfs.mabs['gmagVar'][i], \n\u001b[1;32m     14\u001b[0m                                                   \u001b[0mdwarfs\u001b[0m\u001b[0;34m.\u001b[0m\u001b[0mmabs\u001b[0m\u001b[0;34m[\u001b[0m\u001b[0;34m'rmagVar'\u001b[0m\u001b[0;34m]\u001b[0m\u001b[0;34m[\u001b[0m\u001b[0mi\u001b[0m\u001b[0;34m]\u001b[0m\u001b[0;34m,\u001b[0m\u001b[0;34m\u001b[0m\u001b[0;34m\u001b[0m\u001b[0m\n",
      "\u001b[0;31mNameError\u001b[0m: name 'dwarfs' is not defined"
     ]
    }
   ],
   "source": [
    "import makeDwarfs as md\n",
    "import numpy as np\n",
    "import matplotlib.pyplot as plt\n",
    "\n",
    "logmstar = np.arange(5, 10.1, 0.1) # Array of stellar mass values to use (log(M/Msun))\n",
    "logm = md.mass_from_schechter(logmstar, N=2000, phi_star=100) # Drawing from Schechter function\n",
    "# CAUTION: above may result in probability = 0 for some masses depending on Schechter parameter choices, \n",
    "# throwing the following error: \"ValueError: probabilities contain NaN\"\n",
    "\n",
    "dwarfs = md.Dwarfs(logm)\n",
    "\n",
    "# Picking a random index and looking at the values of some attributes\n",
    "i = np.random.randint(0, len(logm))\n",
    "print('log(M)={:.1f}, Reff (pc)={:.3f}, n={:.3f}'.format(dwarfs.mstar[i], dwarfs.re[i], dwarfs.n[i]))\n",
    "print('M_g={:.3f}, M_r={:.3f}, M_i={:.3f}'.format(dwarfs.mabs['gmagVar'][i], \n",
    "                                                  dwarfs.mabs['rmagVar'][i], \n",
    "                                                  dwarfs.mabs['imagVar'][i]))"
   ]
  },
  {
   "cell_type": "code",
   "execution_count": null,
   "metadata": {},
   "outputs": [],
   "source": [
    "plt.hist(logm)\n",
    "plt.yscale('log')\n",
    "plt.xlabel(r'$\\log(M_{*}/M_{\\odot})$')"
   ]
  },
  {
   "cell_type": "markdown",
   "metadata": {},
   "source": [
    "Now generate some randomized coordinates for your dwarf galaxy population."
   ]
  },
  {
   "cell_type": "code",
   "execution_count": null,
   "metadata": {},
   "outputs": [],
   "source": [
    "coords = md.distribute_coords_as_gaussian(45, 30, 0.1, 0.1, size=len(logm))\n",
    "plt.plot(coords[0], coords[1], 'k.')\n",
    "plt.xlabel(r'RA')\n",
    "plt.ylabel(r'Dec')"
   ]
  },
  {
   "cell_type": "markdown",
   "metadata": {},
   "source": [
    "Then, one can write out a FITS table with the appropriate headers using the write_to_table function."
   ]
  },
  {
   "cell_type": "code",
   "execution_count": null,
   "metadata": {},
   "outputs": [],
   "source": [
    "md.write_to_table(dwarfs, coords, 'table.fits')"
   ]
  }
 ],
 "metadata": {
  "kernelspec": {
   "display_name": "Python 3",
   "language": "python",
   "name": "python3"
  },
  "language_info": {
   "codemirror_mode": {
    "name": "ipython",
    "version": 3
   },
   "file_extension": ".py",
   "mimetype": "text/x-python",
   "name": "python",
   "nbconvert_exporter": "python",
   "pygments_lexer": "ipython3",
   "version": "3.6.10"
  }
 },
 "nbformat": 4,
 "nbformat_minor": 4
}
